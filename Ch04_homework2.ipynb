{
 "cells": [
  {
   "cell_type": "code",
   "execution_count": 27,
   "metadata": {},
   "outputs": [
    {
     "name": "stdout",
     "output_type": "stream",
     "text": [
      "몇 층짜리 트리를 만들까요? : 10\n",
      "         *\n",
      "        ***\n",
      "       *****\n",
      "      *******\n",
      "     *********\n",
      "    ***********\n",
      "   *************\n",
      "  ***************\n",
      " *****************\n",
      "*******************\n"
     ]
    }
   ],
   "source": [
    "def make_startree():\n",
    "    i = 0\n",
    "    j = 1 \n",
    "   \n",
    "    floor = int(input(\"몇 층짜리 트리를 만들까요? : \"))\n",
    "    f = open(\"star_tree.txt\", 'w')\n",
    "    \n",
    "    while True :\n",
    "        i += 1\n",
    "        if i > floor : break\n",
    "        print(\" \"* (floor - i) + \"*\"* j )\n",
    "        f.write(\" \"* (floor - i) + \"*\"* j)\n",
    "        f.write('\\n')\n",
    "        j += 2\n",
    "    f.close()\n",
    "    \n",
    "make_startree()"
   ]
  }
 ],
 "metadata": {
  "kernelspec": {
   "display_name": "Python 3",
   "language": "python",
   "name": "python3"
  },
  "language_info": {
   "codemirror_mode": {
    "name": "ipython",
    "version": 3
   },
   "file_extension": ".py",
   "mimetype": "text/x-python",
   "name": "python",
   "nbconvert_exporter": "python",
   "pygments_lexer": "ipython3",
   "version": "3.7.1"
  }
 },
 "nbformat": 4,
 "nbformat_minor": 2
}
